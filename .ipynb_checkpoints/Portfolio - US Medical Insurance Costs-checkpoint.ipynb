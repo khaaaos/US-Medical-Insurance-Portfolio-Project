{
 "cells": [
  {
   "cell_type": "markdown",
   "id": "e5b8b2a2-8d5e-4473-8f93-5e918f36cf59",
   "metadata": {},
   "source": [
    "<h1>US Medical Insurance Costs - Portfolio Project</h1>"
   ]
  },
  {
   "cell_type": "markdown",
   "id": "bf1b6388-d96c-4a67-a2e5-0606df96f43e",
   "metadata": {},
   "source": [
    "<h1>Goals</h1>"
   ]
  },
  {
   "cell_type": "markdown",
   "id": "a087a7f0-d1a5-49c2-96ad-dc706c028267",
   "metadata": {
    "tags": []
   },
   "source": [
    "<h3>Provide insight into patterns of insurance costs for patients according to lifestyles</h3>\n",
    "<p>What will change in your insurance if you decide to have a child ?! What about if you start smoking ?! Can you afford to make these decisions ?! Let's find out !</p>"
   ]
  },
  {
   "cell_type": "code",
   "execution_count": 1,
   "id": "259d1d43-2a06-42d3-ae9f-14b52e194caf",
   "metadata": {},
   "outputs": [],
   "source": [
    "from math import sqrt\n",
    "import os\n",
    "import matplotlib.pyplot as plt"
   ]
  },
  {
   "cell_type": "code",
   "execution_count": 2,
   "id": "0e4da4ae-7814-445a-a782-ba2bbbe5ae8a",
   "metadata": {},
   "outputs": [],
   "source": [
    "class datasetAnalyser():\n",
    "    def __init__(self, file_path: str):\n",
    "        self.file_path = file_path\n",
    "        self.file_name = file_path.rsplit('\\\\')[-1]\n",
    "        self.data = self.readData()\n",
    "        self.header = self.getHeader()\n",
    "        self.columns = self.getColumns()\n",
    "        self.cardinality = len(self.data)\n",
    "        \n",
    "    def readData(self) -> list:\n",
    "        # read data from dataset into list of strings excluding header\n",
    "        with open(self.file_path, mode='r') as fp:\n",
    "            _ = fp.readline()\n",
    "            data = fp.readlines()\n",
    "        return data\n",
    "    \n",
    "    def getHeader(self) -> str:\n",
    "        # get header from dataset\n",
    "        with open(self.file_path, mode='r') as fp:\n",
    "            header = fp.readline()\n",
    "        return header\n",
    "    \n",
    "    def getColumns(self) -> list:\n",
    "        # separate data values from columns into lists\n",
    "        column_count = len(self.header.strip().split(','))\n",
    "        columns = [[] for i in range(column_count)]\n",
    "        for row in self.data:\n",
    "            for column in range(column_count):\n",
    "                columns[column].append(row.split(',')[column])\n",
    "        return columns\n",
    "    \n",
    "    def readAsDict(self) -> dict:\n",
    "        # read data as a dictionary\n",
    "        dictVar = {self.file_name: []}\n",
    "        keys = self.header.strip().split(',')\n",
    "        for n in range(self.cardinality):\n",
    "            row = self.data[n].strip().split(',')\n",
    "            dictVar[self.file_name].append({})\n",
    "            for k in range(len(keys)):\n",
    "                dictVar[self.file_name][n].update({keys[k]:row[k]})\n",
    "        return dictVar\n",
    "                \n",
    "    def createNewDict(self, name: str, *columns: tuple) -> dict:\n",
    "        # create a new dictionary with select columns\n",
    "        # usage : object.createNewDict('name_here', 'column1', 'column2', 'column3', [...])\n",
    "        newDict = {name:[]}\n",
    "        if columns == ():\n",
    "            print('Columns not found.')\n",
    "            print(\"Usage : object.createNewDict('name_here', 'column1', 'column2', 'column3', [...])\")\n",
    "            return None\n",
    "        for n in range(self.cardinality):\n",
    "            row = self.data[n].strip().split(',')\n",
    "            newDict[name].append({})\n",
    "            for k in range(len(columns)):\n",
    "                newDict[name][n].update({columns[k]:row[k]})\n",
    "        return newDict\n",
    "    \n",
    "    def saveAsCsv(self, name: str):\n",
    "        # save object data as a new CSV file\n",
    "        # usage: object.saveAsCsv('new_file_name_here')\n",
    "        if not name.endswith('.csv'):\n",
    "            name = name + '.csv'\n",
    "        files = os.listdir()\n",
    "        if name in files:\n",
    "            raise FileExistsError()\n",
    "        with open(name, mode='w') as fp:\n",
    "            fp.write(self.header)\n",
    "        with open(name, mode='a') as fp:\n",
    "            for row in self.data:\n",
    "                fp.write(row)\n",
    "    \n",
    "    def grabMean(self, column_name: str, type_of_value: str) -> dict:\n",
    "        # returns mean value of all values of column\n",
    "        # usage: object.grabMean('column_name_here', 'type_of_value_here') Types of value: int, float, str, [...]\n",
    "        columns_list = self.header.strip().split(',')\n",
    "        try:\n",
    "            index = columns_list.index(column_name)\n",
    "        except exception as exc:\n",
    "            print('Exception Encountered')\n",
    "            print('Description: ' + str(exc))\n",
    "            print('Type: ' + str(type(exc)))\n",
    "            return None\n",
    "        if type_of_value in ['int', 'float', 'integer', 'numerical', 'numeral', 'digit', 'number']:\n",
    "            values = [float(value) for value in self.columns[index]]\n",
    "            sum_of_values = sum(values)\n",
    "            return round(sum_of_values / self.cardinality, 2)\n",
    "        elif type_of_value in ['str', 'string', 'text', 'char']:\n",
    "            value_count = {}\n",
    "            unique_values = set(self.columns[index])\n",
    "            for value in unique_values:\n",
    "                value_count.update({value : str(round(self.columns[index].count(value) * 100 / self.cardinality, 2))+'%'})\n",
    "            return value_count\n",
    "        else:\n",
    "            print('Type of value not found')\n",
    "            print(\"Usage: object.grabMean('column_name_here', 'type_of_value_here')\\nExamples of types of value: int, float, str, [...]\")\n",
    "    \n",
    "    def grabCount(self, column_name: str) -> dict:\n",
    "        # returns count for each value in column\n",
    "        # usage: object.grabCount('column_name_here')\n",
    "        columns_list = self.header.strip().split(',')\n",
    "        try:\n",
    "            index = columns_list.index(column_name)\n",
    "        except exception as exc:\n",
    "            print('Exception Encountered')\n",
    "            print('Description: ' + str(exc))\n",
    "            print('Type: ' + str(type(exc)))\n",
    "            return None\n",
    "        value_count = {}\n",
    "        unique_values = set(self.columns[index])\n",
    "        for value in unique_values:\n",
    "            value_count.update({value : self.columns[index].count(value)})\n",
    "        return value_count\n",
    "    \n",
    "    def measuresOfDispersion(self, column_name: str) -> dict:\n",
    "        # calculate Standard Deviation(SD), Variance, Coefficient of Variation(CV), Mean and Median\n",
    "        labels = ['Standard Deviation', 'Variance', 'Coefficient of Variation', 'Mean', 'Median']\n",
    "        columns_list = self.header.strip().split(',')\n",
    "        index = columns_list.index(column_name)\n",
    "        result = {}\n",
    "        sizeOf = self.cardinality\n",
    "        \n",
    "        try:\n",
    "            column = [float(value) for value in self.columns[index]]\n",
    "        except Exception as exc:\n",
    "            print('Make sure the column contains numerical values.')\n",
    "            print('Description: ' + str(exc))\n",
    "            print('Type: ' + str(type(exc)))\n",
    "            return\n",
    "        \n",
    "        \"MEAN\"\n",
    "        mean = sum(column)/sizeOf\n",
    "        \n",
    "        \"VARIANCE\"\n",
    "        variance = 0\n",
    "        for i in column:\n",
    "            variance += ((i-mean)**2) / (sizeOf-1)\n",
    "\n",
    "        \"STANDARD DEVIATION\"\n",
    "        sd = sqrt(variance)\n",
    "\n",
    "        \"COEFFICIENT OF VARIATION\"\n",
    "        cv = sd / mean\n",
    "\n",
    "        \"MEDIAN\"\n",
    "        median = 0\n",
    "        sorted_values = sorted(column)\n",
    "        if sizeOf % 2 == 0:\n",
    "            \"if it's even, get the average of the middle values\"\n",
    "            mid = sizeOf // 2\n",
    "            median = (sorted_values[mid-1]+sorted_values[mid])/2\n",
    "        elif sizeOf % 2 == 1:\n",
    "            mid = sizeOf / 2\n",
    "            median = sorted_values[int(mid)]\n",
    "\n",
    "        values = [sd, variance, cv, mean, median]\n",
    "\n",
    "        for n in range(5):\n",
    "            result.update({labels[n] : round(values[n],4)})\n",
    "        return result"
   ]
  },
  {
   "cell_type": "code",
   "execution_count": 3,
   "id": "9fe78546-4740-4531-b9b8-3e73126fe599",
   "metadata": {},
   "outputs": [],
   "source": [
    "data = datasetAnalyser('insurance.csv')"
   ]
  },
  {
   "cell_type": "markdown",
   "id": "29c34ecc-7ecb-455d-891d-66e8065ab75f",
   "metadata": {},
   "source": [
    "<h3>Column's Index</h3>"
   ]
  },
  {
   "cell_type": "code",
   "execution_count": 4,
   "id": "b47a2440-b39a-4b11-bfbb-dc0bc6cdbfce",
   "metadata": {},
   "outputs": [
    {
     "name": "stdout",
     "output_type": "stream",
     "text": [
      "Index 0 : Column age\n",
      "Index 1 : Column sex\n",
      "Index 2 : Column bmi\n",
      "Index 3 : Column children\n",
      "Index 4 : Column smoker\n",
      "Index 5 : Column region\n",
      "Index 6 : Column charges\n"
     ]
    }
   ],
   "source": [
    "col_names = data.header.strip().split(',')\n",
    "col_indexes = {i: col_names[i] for i in range(7)}\n",
    "for key, value in col_indexes.items():\n",
    "    print(f'Index {key} : Column {value}')"
   ]
  },
  {
   "cell_type": "markdown",
   "id": "cfc5dc8e-feb1-4a2e-aff4-9db2a9f7f377",
   "metadata": {},
   "source": [
    "<h1>Analysing Data</h1>"
   ]
  },
  {
   "cell_type": "markdown",
   "id": "a0979285-de94-40e4-8f3c-2b6d6f474467",
   "metadata": {},
   "source": [
    "<h3>Charges Distribution</h3>"
   ]
  },
  {
   "cell_type": "code",
   "execution_count": 5,
   "id": "2b89d441-2e32-4a1a-ba0b-e300dfcd6012",
   "metadata": {},
   "outputs": [
    {
     "name": "stdout",
     "output_type": "stream",
     "text": [
      "\tStandard Deviation: 12110.0112\n",
      "\tVariance: 146652372.1529\n",
      "\tCoefficient of Variation: 0.9126\n",
      "\tMean: 13270.4223\n",
      "\tMedian: 9382.033\n"
     ]
    }
   ],
   "source": [
    "charges_calculations = data.measuresOfDispersion('charges')\n",
    "\n",
    "for key, value in charges_calculations.items():\n",
    "    print(f\"\\t{key}: {value}\")"
   ]
  },
  {
   "cell_type": "markdown",
   "id": "980e21c1-1b1b-4a28-922d-f63177cd074a",
   "metadata": {},
   "source": [
    "<h3>Age Distribution</h3>"
   ]
  },
  {
   "cell_type": "code",
   "execution_count": 6,
   "id": "12c42d5e-0acf-4aef-bfd1-ba84b364d404",
   "metadata": {},
   "outputs": [
    {
     "name": "stdout",
     "output_type": "stream",
     "text": [
      "\tStandard Deviation: 14.05\n",
      "\tVariance: 197.4014\n",
      "\tCoefficient of Variation: 0.3584\n",
      "\tMean: 39.207\n",
      "\tMedian: 39.0\n",
      "\n"
     ]
    }
   ],
   "source": [
    "age_calculations = data.measuresOfDispersion('age')\n",
    "\n",
    "for key, value in age_calculations.items():\n",
    "    print(f\"\\t{key}: {value}\")\n",
    "print()"
   ]
  },
  {
   "cell_type": "markdown",
   "id": "224e1f60-7209-424f-82a8-a33c241933ce",
   "metadata": {},
   "source": [
    "<h3>BMI Distribution</h3>"
   ]
  },
  {
   "cell_type": "code",
   "execution_count": 7,
   "id": "08c1adb1-0bcf-455a-967c-92edbbad8497",
   "metadata": {},
   "outputs": [
    {
     "name": "stdout",
     "output_type": "stream",
     "text": [
      "\tStandard Deviation: 6.0982\n",
      "\tVariance: 37.1879\n",
      "\tCoefficient of Variation: 0.1989\n",
      "\tMean: 30.6634\n",
      "\tMedian: 30.4\n",
      "\n"
     ]
    }
   ],
   "source": [
    "bmi_calculations = data.measuresOfDispersion('bmi')\n",
    "\n",
    "for key, value in bmi_calculations.items():\n",
    "    print(f\"\\t{key}: {value}\")\n",
    "print()"
   ]
  },
  {
   "cell_type": "markdown",
   "id": "e6fbc401-ee4e-4728-a65d-3c2610007157",
   "metadata": {},
   "source": [
    "<h3>Smokers Distribution</h3>"
   ]
  },
  {
   "cell_type": "code",
   "execution_count": 8,
   "id": "aeea76ed-ae64-405c-8ce3-b3660de66019",
   "metadata": {},
   "outputs": [
    {
     "name": "stdout",
     "output_type": "stream",
     "text": [
      "\tThe percentage of smokers in the dataset is 20.48%\n",
      "\tMeanwhile, the percentage of nonsmokers in the dataset is 79.52%\n"
     ]
    }
   ],
   "source": [
    "smokers_info = data.grabMean('smoker', 'str')\n",
    "\n",
    "print(f\"\\tThe percentage of smokers in the dataset is {smokers_info.get('yes')}\")\n",
    "print(f\"\\tMeanwhile, the percentage of nonsmokers in the dataset is {smokers_info.get('no')}\")"
   ]
  },
  {
   "cell_type": "markdown",
   "id": "57c2cf7b-a9a0-4362-bf37-7ca21e01fded",
   "metadata": {},
   "source": [
    "<h3>Sex Distribution</h3>"
   ]
  },
  {
   "cell_type": "code",
   "execution_count": 9,
   "id": "a10ebbc4-a337-4bea-ae99-cfb7b5e92f8b",
   "metadata": {},
   "outputs": [
    {
     "name": "stdout",
     "output_type": "stream",
     "text": [
      "\tThe percentage of females in the dataset is 49.48%\n",
      "\tThe percentage of males in the dataset is 50.52%\n"
     ]
    }
   ],
   "source": [
    "smokers_info = data.grabMean('sex', 'str')\n",
    "\n",
    "for key, value in smokers_info.items():\n",
    "    print(f\"\\tThe percentage of {key}s in the dataset is {value}\")"
   ]
  },
  {
   "cell_type": "markdown",
   "id": "1699b829-249e-4669-8850-818773f3295b",
   "metadata": {},
   "source": [
    "<h1>Age statistics of patients with at least one child</h1>"
   ]
  },
  {
   "cell_type": "code",
   "execution_count": 10,
   "id": "5438adbb-d265-47db-b71b-e00c31e72f8a",
   "metadata": {},
   "outputs": [],
   "source": [
    "Age_Column = data.columns[0] # -> int\n",
    "Children_Column = data.columns[3] # -> int\n",
    "\n",
    "Age_vs_Children = zip(Age_Column, Children_Column)\n",
    "Parents_Age_Sum = 0\n",
    "Parents_Counter = 0\n",
    "Nonparents_Age_Sum = 0\n",
    "Nonparents_Counter = 0\n",
    "\n",
    "for pair in Age_vs_Children:\n",
    "    if int(pair[1]) > 0:\n",
    "        Parents_Age_Sum += int(pair[0])\n",
    "        Parents_Counter += 1\n",
    "    else:\n",
    "        Nonparents_Age_Sum += int(pair[0])\n",
    "        Nonparents_Counter += 1"
   ]
  },
  {
   "cell_type": "code",
   "execution_count": 11,
   "id": "cb90d620-942c-452d-8050-9ba80e5953ad",
   "metadata": {},
   "outputs": [
    {
     "name": "stdout",
     "output_type": "stream",
     "text": [
      "The average age of patients with at least one child is 40 years old.\n",
      "Meanwhile, the average age of patients with no children is 38 years old.\n"
     ]
    }
   ],
   "source": [
    "print(f'The average age of patients with at least one child is {Parents_Age_Sum/Parents_Counter:.0f} years old.')\n",
    "print(f'Meanwhile, the average age of patients with no children is {Nonparents_Age_Sum/Nonparents_Counter:.0f} years old.')"
   ]
  },
  {
   "cell_type": "markdown",
   "id": "ecef22c2-e71c-4530-a75c-cd91feef5975",
   "metadata": {},
   "source": [
    "<h1>Average insurance charges grouped by smoking status</h1>"
   ]
  },
  {
   "cell_type": "code",
   "execution_count": 12,
   "id": "0aac6c7d-c2d0-4ca3-8c26-035cb2b97196",
   "metadata": {},
   "outputs": [],
   "source": [
    "Charge_Column = data.columns[6] # -> float\n",
    "Smoker_Column = data.columns[4] # -> string\n",
    "\n",
    "Charge_vs_Smoker = zip(Charge_Column, Smoker_Column)\n",
    "Charge_Smoker_Sum = 0\n",
    "Charge_Smoker_Counter = 0\n",
    "Charge_Nonsmoker_Sum = 0\n",
    "Charge_Nonsmoker_Counter = 0\n",
    "\n",
    "for pair in Charge_vs_Smoker:\n",
    "    if pair[1] == 'yes':\n",
    "        Charge_Smoker_Sum += float(pair[0])\n",
    "        Charge_Smoker_Counter += 1\n",
    "    else:\n",
    "        Charge_Nonsmoker_Sum += float(pair[0])\n",
    "        Charge_Nonsmoker_Counter += 1"
   ]
  },
  {
   "cell_type": "code",
   "execution_count": 13,
   "id": "561e5fd1-11f1-4875-9705-7cf60daadb1f",
   "metadata": {},
   "outputs": [
    {
     "name": "stdout",
     "output_type": "stream",
     "text": [
      "The average charge for patients who smoke is $32050.23.\n",
      "Meanwhile, the average charge for nonsmokers is $8434.27.\n"
     ]
    }
   ],
   "source": [
    "print(f'The average charge for patients who smoke is ${Charge_Smoker_Sum/Charge_Smoker_Counter:.2f}.')\n",
    "print(f'Meanwhile, the average charge for nonsmokers is ${Charge_Nonsmoker_Sum/Charge_Nonsmoker_Counter:.2f}.')"
   ]
  },
  {
   "cell_type": "markdown",
   "id": "79b99aa9-b341-466f-86b2-1b50f4726d73",
   "metadata": {},
   "source": [
    "<h3>Notations:</h3>\n",
    "<p>Smokers pay on average 280% more than non-smokers for insurance.</p>"
   ]
  },
  {
   "cell_type": "markdown",
   "id": "d411483f-9bd0-4768-bece-8bbf54ba765d",
   "metadata": {},
   "source": [
    "<h1>Relationship between BMI and prices of insurance</h1>"
   ]
  },
  {
   "cell_type": "raw",
   "id": "89b401de-5338-4506-9d12-da2abbac7dcb",
   "metadata": {},
   "source": [
    "# Scatter graph code inspired by Sukrit Kalra: https://stackoverflow.com/users/2055853/sukrit-kalra"
   ]
  },
  {
   "cell_type": "code",
   "execution_count": 14,
   "id": "b3e7d67e-828f-4fa5-8b88-f2062308d26f",
   "metadata": {},
   "outputs": [
    {
     "data": {
      "image/png": "[encoded data removed]",
      "text/plain": [
       "<Figure size 640x480 with 1 Axes>"
      ]
     },
     "metadata": {},
     "output_type": "display_data"
    }
   ],
   "source": [
    "BMI_Column = data.columns[2] # -> float\n",
    "# Charge Column # -> float\n",
    "\n",
    "BMI_vs_Charge = list(zip(BMI_Column, Charge_Column))\n",
    "\n",
    "BMI_vs_Charge = [(float(bmi), float(charge)) for bmi, charge in BMI_vs_Charge]\n",
    "\n",
    "Relationship_BMI_vs_Charge = zip(*BMI_vs_Charge)\n",
    "\n",
    "plt.scatter(*Relationship_BMI_vs_Charge)\n",
    "plt.title('Relationship between BMI and prices of insurance')\n",
    "plt.xlabel('BMI')\n",
    "plt.ylabel('Charges in USD')\n",
    "\n",
    "plt.show()"
   ]
  },
  {
   "cell_type": "markdown",
   "id": "a9811f8c-7367-438d-9b95-66b62edd84e9",
   "metadata": {},
   "source": [
    "<h3>Notations:</h3>\n",
    "<p>A high BMI seems to be quite impactful on the price of your insurance.</p>"
   ]
  },
  {
   "cell_type": "markdown",
   "id": "6845524b-1fd3-40d2-ba42-7de6836e022b",
   "metadata": {},
   "source": [
    "<h1>Average insurance price organized by how many children the patient has</h1>"
   ]
  },
  {
   "cell_type": "code",
   "execution_count": 15,
   "id": "a77c72f8-07e3-4390-826e-19026bc7127b",
   "metadata": {},
   "outputs": [],
   "source": [
    "# Children_Column # -> int\n",
    "# Charge_Column # -> float\n",
    "\n",
    "Children_vs_Charge = zip(Children_Column, Charge_Column)\n",
    "count = data.grabCount('children')\n",
    "count = {int(key): value for key,value in count.items()}\n",
    "\n",
    "values = {}\n",
    "for pair in Children_vs_Charge:\n",
    "    if int(pair[0]) in values.keys():\n",
    "        values[int(pair[0])] += float(pair[1])\n",
    "    else:\n",
    "        values[int(pair[0])] = float(pair[1])\n",
    "\n",
    "result = {key:0 for key in values.keys()}\n",
    "\n",
    "for i in range(len(values.keys())):\n",
    "    result[i] = round(values.get(i)/count.get(i), 2)"
   ]
  },
  {
   "cell_type": "code",
   "execution_count": 16,
   "id": "d9f328a1-18a8-467c-8c4f-af7fe21b4123",
   "metadata": {},
   "outputs": [
    {
     "name": "stdout",
     "output_type": "stream",
     "text": [
      "The average charge for patients with 0 is $12365.98.\n",
      "The average charge for patients with 1 is $12731.17.\n",
      "The average charge for patients with 2 is $15073.56.\n",
      "The average charge for patients with 3 is $15355.32.\n",
      "The average charge for patients with 4 is $13850.66.\n",
      "The average charge for patients with 5 is $8786.04.\n"
     ]
    }
   ],
   "source": [
    "for children in sorted(result.keys()):\n",
    "    print(f'The average charge for patients with {children} is ${result.get(children):.2f}.')"
   ]
  },
  {
   "cell_type": "markdown",
   "id": "ed07707e-9039-4b24-9cbd-8e335f6b02e2",
   "metadata": {},
   "source": [
    "<h3>Notations:</h3>\n",
    "<p>Having children of your own doesn't seem to have a very high impact in your insurance price.</p>"
   ]
  }
 ],
 "metadata": {
  "kernelspec": {
   "display_name": "Python 3 (ipykernel)",
   "language": "python",
   "name": "python3"
  },
  "language_info": {
   "codemirror_mode": {
    "name": "ipython",
    "version": 3
   },
   "file_extension": ".py",
   "mimetype": "text/x-python",
   "name": "python",
   "nbconvert_exporter": "python",
   "pygments_lexer": "ipython3",
   "version": "3.10.7"
  }
 },
 "nbformat": 4,
 "nbformat_minor": 5
}
